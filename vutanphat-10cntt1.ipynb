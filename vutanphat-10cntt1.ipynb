{
 "cells": [
  {
   "cell_type": "code",
   "execution_count": 1,
   "id": "c7c9248a",
   "metadata": {
    "execution": {
     "iopub.execute_input": "2023-10-19T06:49:50.188153Z",
     "iopub.status.busy": "2023-10-19T06:49:50.186867Z",
     "iopub.status.idle": "2023-10-19T06:50:40.109584Z",
     "shell.execute_reply": "2023-10-19T06:50:40.108455Z"
    },
    "papermill": {
     "duration": 49.931847,
     "end_time": "2023-10-19T06:50:40.112085",
     "exception": false,
     "start_time": "2023-10-19T06:49:50.180238",
     "status": "completed"
    },
    "tags": []
   },
   "outputs": [
    {
     "name": "stdout",
     "output_type": "stream",
     "text": [
      "Collecting pyspark\r\n",
      "  Downloading pyspark-3.5.0.tar.gz (316.9 MB)\r\n",
      "\u001b[2K     \u001b[90m━━━━━━━━━━━━━━━━━━━━━━━━━━━━━━━━━━━━━━━\u001b[0m \u001b[32m316.9/316.9 MB\u001b[0m \u001b[31m2.9 MB/s\u001b[0m eta \u001b[36m0:00:00\u001b[0m\r\n",
      "\u001b[?25h  Preparing metadata (setup.py) ... \u001b[?25l-\b \bdone\r\n",
      "\u001b[?25hRequirement already satisfied: py4j==0.10.9.7 in /opt/conda/lib/python3.10/site-packages (from pyspark) (0.10.9.7)\r\n",
      "Building wheels for collected packages: pyspark\r\n",
      "  Building wheel for pyspark (setup.py) ... \u001b[?25l-\b \b\\\b \b|\b \bdone\r\n",
      "\u001b[?25h  Created wheel for pyspark: filename=pyspark-3.5.0-py2.py3-none-any.whl size=317425350 sha256=42aa9bd5c0c260bd9dea504a8d28b6681b6090605d4e14b4b5965bc0427b19c6\r\n",
      "  Stored in directory: /root/.cache/pip/wheels/41/4e/10/c2cf2467f71c678cfc8a6b9ac9241e5e44a01940da8fbb17fc\r\n",
      "Successfully built pyspark\r\n",
      "Installing collected packages: pyspark\r\n",
      "Successfully installed pyspark-3.5.0\r\n"
     ]
    }
   ],
   "source": [
    "!pip install pyspark"
   ]
  },
  {
   "cell_type": "code",
   "execution_count": 2,
   "id": "98e5816c",
   "metadata": {
    "_cell_guid": "b1076dfc-b9ad-4769-8c92-a6c4dae69d19",
    "_uuid": "8f2839f25d086af736a60e9eeb907d3b93b6e0e5",
    "execution": {
     "iopub.execute_input": "2023-10-19T06:50:40.136118Z",
     "iopub.status.busy": "2023-10-19T06:50:40.135644Z",
     "iopub.status.idle": "2023-10-19T06:50:40.614861Z",
     "shell.execute_reply": "2023-10-19T06:50:40.613706Z"
    },
    "papermill": {
     "duration": 0.494171,
     "end_time": "2023-10-19T06:50:40.617411",
     "exception": false,
     "start_time": "2023-10-19T06:50:40.123240",
     "status": "completed"
    },
    "tags": []
   },
   "outputs": [],
   "source": [
    "#import libraries\n",
    "from pyspark import SparkContext\n",
    "from pyspark.sql import SQLContext\n",
    "import pandas as pd\n",
    "from pyspark.sql import Row\n",
    "import numpy as np"
   ]
  },
  {
   "cell_type": "code",
   "execution_count": 3,
   "id": "67db3e9a",
   "metadata": {
    "execution": {
     "iopub.execute_input": "2023-10-19T06:50:40.642168Z",
     "iopub.status.busy": "2023-10-19T06:50:40.640876Z",
     "iopub.status.idle": "2023-10-19T06:50:46.989706Z",
     "shell.execute_reply": "2023-10-19T06:50:46.988639Z"
    },
    "papermill": {
     "duration": 6.363398,
     "end_time": "2023-10-19T06:50:46.992156",
     "exception": false,
     "start_time": "2023-10-19T06:50:40.628758",
     "status": "completed"
    },
    "tags": []
   },
   "outputs": [
    {
     "name": "stderr",
     "output_type": "stream",
     "text": [
      "Setting default log level to \"WARN\".\n",
      "To adjust logging level use sc.setLogLevel(newLevel). For SparkR, use setLogLevel(newLevel).\n",
      "23/10/19 06:50:44 WARN NativeCodeLoader: Unable to load native-hadoop library for your platform... using builtin-java classes where applicable\n",
      "/opt/conda/lib/python3.10/site-packages/pyspark/sql/context.py:113: FutureWarning: Deprecated in 3.0.0. Use SparkSession.builder.getOrCreate() instead.\n",
      "  warnings.warn(\n"
     ]
    }
   ],
   "source": [
    "sc = SparkContext.getOrCreate()\n",
    "sqlContext = SQLContext(sc)"
   ]
  },
  {
   "cell_type": "code",
   "execution_count": 4,
   "id": "e201a209",
   "metadata": {
    "execution": {
     "iopub.execute_input": "2023-10-19T06:50:47.019965Z",
     "iopub.status.busy": "2023-10-19T06:50:47.019148Z",
     "iopub.status.idle": "2023-10-19T06:50:47.025019Z",
     "shell.execute_reply": "2023-10-19T06:50:47.024192Z"
    },
    "papermill": {
     "duration": 0.022808,
     "end_time": "2023-10-19T06:50:47.027399",
     "exception": false,
     "start_time": "2023-10-19T06:50:47.004591",
     "status": "completed"
    },
    "tags": []
   },
   "outputs": [],
   "source": [
    "a = [\"spark\",\"rdd\",\"python\",\"context\",\"create\",\"class\"]\n",
    "b = [\"operation\", \"apache\", \"scala\", \"lambda\",\"parallel\",\"partition\"]"
   ]
  },
  {
   "cell_type": "code",
   "execution_count": 5,
   "id": "99cf0c4d",
   "metadata": {
    "execution": {
     "iopub.execute_input": "2023-10-19T06:50:47.052423Z",
     "iopub.status.busy": "2023-10-19T06:50:47.051614Z",
     "iopub.status.idle": "2023-10-19T06:50:47.491849Z",
     "shell.execute_reply": "2023-10-19T06:50:47.490278Z"
    },
    "papermill": {
     "duration": 0.457306,
     "end_time": "2023-10-19T06:50:47.496179",
     "exception": false,
     "start_time": "2023-10-19T06:50:47.038873",
     "status": "completed"
    },
    "tags": []
   },
   "outputs": [],
   "source": [
    "rdd_A = sc.parallelize(a)\n",
    "rdd_B= sc.parallelize(b)"
   ]
  },
  {
   "cell_type": "code",
   "execution_count": 6,
   "id": "781f0652",
   "metadata": {
    "execution": {
     "iopub.execute_input": "2023-10-19T06:50:47.533878Z",
     "iopub.status.busy": "2023-10-19T06:50:47.533477Z",
     "iopub.status.idle": "2023-10-19T06:50:47.542717Z",
     "shell.execute_reply": "2023-10-19T06:50:47.541911Z"
    },
    "papermill": {
     "duration": 0.027587,
     "end_time": "2023-10-19T06:50:47.545188",
     "exception": false,
     "start_time": "2023-10-19T06:50:47.517601",
     "status": "completed"
    },
    "tags": []
   },
   "outputs": [],
   "source": [
    "A = rdd_A.map(lambda x: Row(name = x))\n",
    "B = rdd_B.map(lambda x: Row(name = x))"
   ]
  },
  {
   "cell_type": "code",
   "execution_count": 7,
   "id": "a23e41cd",
   "metadata": {
    "execution": {
     "iopub.execute_input": "2023-10-19T06:50:47.569332Z",
     "iopub.status.busy": "2023-10-19T06:50:47.568884Z",
     "iopub.status.idle": "2023-10-19T06:50:52.456169Z",
     "shell.execute_reply": "2023-10-19T06:50:52.455001Z"
    },
    "papermill": {
     "duration": 4.903183,
     "end_time": "2023-10-19T06:50:52.459698",
     "exception": false,
     "start_time": "2023-10-19T06:50:47.556515",
     "status": "completed"
    },
    "tags": []
   },
   "outputs": [
    {
     "name": "stderr",
     "output_type": "stream",
     "text": [
      "                                                                                \r"
     ]
    }
   ],
   "source": [
    "dfA = sqlContext.createDataFrame(A)\n",
    "dfB = sqlContext.createDataFrame(B)"
   ]
  },
  {
   "cell_type": "code",
   "execution_count": 8,
   "id": "328e2802",
   "metadata": {
    "execution": {
     "iopub.execute_input": "2023-10-19T06:50:52.504061Z",
     "iopub.status.busy": "2023-10-19T06:50:52.503646Z",
     "iopub.status.idle": "2023-10-19T06:50:52.549967Z",
     "shell.execute_reply": "2023-10-19T06:50:52.549065Z"
    },
    "papermill": {
     "duration": 0.071738,
     "end_time": "2023-10-19T06:50:52.553193",
     "exception": false,
     "start_time": "2023-10-19T06:50:52.481455",
     "status": "completed"
    },
    "tags": []
   },
   "outputs": [],
   "source": [
    "df1 = dfA.alias(\"df1\")\n",
    "df2 = dfB.alias(\"df2\")"
   ]
  },
  {
   "cell_type": "code",
   "execution_count": 9,
   "id": "03d24710",
   "metadata": {
    "execution": {
     "iopub.execute_input": "2023-10-19T06:50:52.583685Z",
     "iopub.status.busy": "2023-10-19T06:50:52.583176Z",
     "iopub.status.idle": "2023-10-19T06:50:57.223650Z",
     "shell.execute_reply": "2023-10-19T06:50:57.222306Z"
    },
    "papermill": {
     "duration": 4.657257,
     "end_time": "2023-10-19T06:50:57.227287",
     "exception": false,
     "start_time": "2023-10-19T06:50:52.570030",
     "status": "completed"
    },
    "tags": []
   },
   "outputs": [
    {
     "name": "stdout",
     "output_type": "stream",
     "text": [
      "Right Outer Join:\n"
     ]
    },
    {
     "name": "stderr",
     "output_type": "stream",
     "text": [
      "                                                                                \r"
     ]
    },
    {
     "name": "stdout",
     "output_type": "stream",
     "text": [
      "+---------+\n",
      "|     name|\n",
      "+---------+\n",
      "|operation|\n",
      "|    scala|\n",
      "|   apache|\n",
      "|   lambda|\n",
      "|partition|\n",
      "| parallel|\n",
      "+---------+\n",
      "\n"
     ]
    }
   ],
   "source": [
    "#Right Outer Join\n",
    "\n",
    "right_outer = df1.join(other=df2,on=\"name\",how='right_outer')\n",
    "print(\"Right Outer Join:\")\n",
    "right_outer.show()"
   ]
  },
  {
   "cell_type": "code",
   "execution_count": 10,
   "id": "4a5a8454",
   "metadata": {
    "execution": {
     "iopub.execute_input": "2023-10-19T06:50:57.277771Z",
     "iopub.status.busy": "2023-10-19T06:50:57.277221Z",
     "iopub.status.idle": "2023-10-19T06:50:58.880025Z",
     "shell.execute_reply": "2023-10-19T06:50:58.878802Z"
    },
    "papermill": {
     "duration": 1.630601,
     "end_time": "2023-10-19T06:50:58.882627",
     "exception": false,
     "start_time": "2023-10-19T06:50:57.252026",
     "status": "completed"
    },
    "tags": []
   },
   "outputs": [
    {
     "name": "stdout",
     "output_type": "stream",
     "text": [
      "Full Outer Join:\n"
     ]
    },
    {
     "name": "stderr",
     "output_type": "stream",
     "text": [
      "[Stage 9:>                                                          (0 + 4) / 4]\r"
     ]
    },
    {
     "name": "stdout",
     "output_type": "stream",
     "text": [
      "+---------+\n",
      "|     name|\n",
      "+---------+\n",
      "|   apache|\n",
      "|    class|\n",
      "|  context|\n",
      "|   create|\n",
      "|   lambda|\n",
      "|operation|\n",
      "| parallel|\n",
      "|partition|\n",
      "|   python|\n",
      "|      rdd|\n",
      "|    scala|\n",
      "|    spark|\n",
      "+---------+\n",
      "\n"
     ]
    },
    {
     "name": "stderr",
     "output_type": "stream",
     "text": [
      "                                                                                \r"
     ]
    }
   ],
   "source": [
    "#Full Outer Join\n",
    "\n",
    "full_outer = df1.join(other=df2,on=\"name\",how='full_outer')\n",
    "print(\"Full Outer Join:\")\n",
    "full_outer.show()"
   ]
  },
  {
   "cell_type": "code",
   "execution_count": 11,
   "id": "225dbb34",
   "metadata": {
    "execution": {
     "iopub.execute_input": "2023-10-19T06:50:58.924576Z",
     "iopub.status.busy": "2023-10-19T06:50:58.924036Z",
     "iopub.status.idle": "2023-10-19T06:51:00.104428Z",
     "shell.execute_reply": "2023-10-19T06:51:00.102833Z"
    },
    "papermill": {
     "duration": 1.205928,
     "end_time": "2023-10-19T06:51:00.108035",
     "exception": false,
     "start_time": "2023-10-19T06:50:58.902107",
     "status": "completed"
    },
    "tags": []
   },
   "outputs": [
    {
     "name": "stdout",
     "output_type": "stream",
     "text": [
      "Full Outer Join:\n"
     ]
    },
    {
     "name": "stderr",
     "output_type": "stream",
     "text": [
      "[Stage 14:===========================================>              (3 + 1) / 4]\r"
     ]
    },
    {
     "name": "stdout",
     "output_type": "stream",
     "text": [
      "+---------+\n",
      "|     name|\n",
      "+---------+\n",
      "|   apache|\n",
      "|    class|\n",
      "|  context|\n",
      "|   create|\n",
      "|   lambda|\n",
      "|operation|\n",
      "| parallel|\n",
      "|partition|\n",
      "|   python|\n",
      "|      rdd|\n",
      "|    scala|\n",
      "|    spark|\n",
      "+---------+\n",
      "\n"
     ]
    },
    {
     "name": "stderr",
     "output_type": "stream",
     "text": [
      "                                                                                \r"
     ]
    }
   ],
   "source": [
    "#Full Outer Join\n",
    "\n",
    "full_outer = df1.join(other=df2,on=\"name\",how='full_outer')\n",
    "print(\"Full Outer Join:\")\n",
    "full_outer.show()"
   ]
  },
  {
   "cell_type": "code",
   "execution_count": 12,
   "id": "d14dee78",
   "metadata": {
    "execution": {
     "iopub.execute_input": "2023-10-19T06:51:00.151775Z",
     "iopub.status.busy": "2023-10-19T06:51:00.151291Z",
     "iopub.status.idle": "2023-10-19T06:51:01.905883Z",
     "shell.execute_reply": "2023-10-19T06:51:01.904551Z"
    },
    "papermill": {
     "duration": 1.780007,
     "end_time": "2023-10-19T06:51:01.909575",
     "exception": false,
     "start_time": "2023-10-19T06:51:00.129568",
     "status": "completed"
    },
    "tags": []
   },
   "outputs": [
    {
     "name": "stderr",
     "output_type": "stream",
     "text": [
      "                                                                                \r"
     ]
    },
    {
     "name": "stdout",
     "output_type": "stream",
     "text": [
      "Mapped Dataframe with count of 's'\n",
      "+----+\n",
      "|name|\n",
      "+----+\n",
      "|   0|\n",
      "|   2|\n",
      "|   0|\n",
      "|   0|\n",
      "|   0|\n",
      "|   0|\n",
      "|   0|\n",
      "|   0|\n",
      "|   0|\n",
      "|   0|\n",
      "|   1|\n",
      "|   1|\n",
      "+----+\n",
      "\n"
     ]
    }
   ],
   "source": [
    "#Mapping the RDD\n",
    "\n",
    "map_rdd = full_outer.rdd.map(lambda x: sum([word.count('s') for word in x]))\n",
    "map_df = map_rdd.map(lambda x: Row(name = x))\n",
    "map_df = sqlContext.createDataFrame(map_df)\n",
    "print(\"Mapped Dataframe with count of 's'\")\n",
    "map_df.show()\n"
   ]
  },
  {
   "cell_type": "code",
   "execution_count": 13,
   "id": "40e99e8a",
   "metadata": {
    "execution": {
     "iopub.execute_input": "2023-10-19T06:51:01.948303Z",
     "iopub.status.busy": "2023-10-19T06:51:01.947937Z",
     "iopub.status.idle": "2023-10-19T06:51:02.222405Z",
     "shell.execute_reply": "2023-10-19T06:51:02.220883Z"
    },
    "papermill": {
     "duration": 0.293331,
     "end_time": "2023-10-19T06:51:02.225735",
     "exception": false,
     "start_time": "2023-10-19T06:51:01.932404",
     "status": "completed"
    },
    "tags": []
   },
   "outputs": [
    {
     "name": "stdout",
     "output_type": "stream",
     "text": [
      "Using Map-Reduce, the character \"s\" appears 4 times in all a and b.\n",
      "\n"
     ]
    }
   ],
   "source": [
    "reduce_rdd=map_rdd.reduce(lambda x,y: x+y)\n",
    "print(\"Using Map-Reduce, the character \\\"s\\\" appears\",reduce_rdd,\"times in all a and b.\\n\" )"
   ]
  },
  {
   "cell_type": "code",
   "execution_count": 14,
   "id": "1a978083",
   "metadata": {
    "execution": {
     "iopub.execute_input": "2023-10-19T06:51:02.256748Z",
     "iopub.status.busy": "2023-10-19T06:51:02.256367Z",
     "iopub.status.idle": "2023-10-19T06:51:02.562775Z",
     "shell.execute_reply": "2023-10-19T06:51:02.561596Z"
    },
    "papermill": {
     "duration": 0.323386,
     "end_time": "2023-10-19T06:51:02.566171",
     "exception": false,
     "start_time": "2023-10-19T06:51:02.242785",
     "status": "completed"
    },
    "tags": []
   },
   "outputs": [
    {
     "name": "stdout",
     "output_type": "stream",
     "text": [
      "Using aggregate function, the character \"s\" appears 4 times in all a and b.\n"
     ]
    }
   ],
   "source": [
    "#Aggregate function\n",
    "\n",
    "count = full_outer.rdd.aggregate(0, lambda i, x: i + x[0].count('s'), lambda i, j: i+j)\n",
    "\n",
    "print(\"Using aggregate function, the character \\\"s\\\" appears\",count, \"times in all a and b.\" )"
   ]
  },
  {
   "cell_type": "code",
   "execution_count": 15,
   "id": "fc49998f",
   "metadata": {
    "execution": {
     "iopub.execute_input": "2023-10-19T06:51:02.606592Z",
     "iopub.status.busy": "2023-10-19T06:51:02.605818Z",
     "iopub.status.idle": "2023-10-19T06:51:04.165557Z",
     "shell.execute_reply": "2023-10-19T06:51:04.164370Z"
    },
    "papermill": {
     "duration": 1.579805,
     "end_time": "2023-10-19T06:51:04.168158",
     "exception": false,
     "start_time": "2023-10-19T06:51:02.588353",
     "status": "completed"
    },
    "tags": []
   },
   "outputs": [
    {
     "name": "stdout",
     "output_type": "stream",
     "text": [
      "Students records: \n",
      "\n",
      "+-----------+--------------------+---+------------+------------+----+-------------+-----------+----------------+---------------------+-----------------------+\n",
      "|YearofStudy|              Course|Age|ApproxHeight|ApproxWeight|KCSE|Yr_JoinCampus|    SitKCSE|Expense_Semester|Expense_Accommodation|Previous_Exam_MeanGrade|\n",
      "+-----------+--------------------+---+------------+------------+----+-------------+-----------+----------------+---------------------+-----------------------+\n",
      "|Second Year|         MATHEMATICS| 20|         152|          80|2016|         2018|   Central |            8744|                 6043|                      B|\n",
      "| First Year|ECONOMICS AND STA...| 29|         182|          79|2010|         2010|Rift Valley|           26293|                14782|                      B|\n",
      "|Fourth Year|         MATHEMATICS| 22|         167|          64|2015|         2016|    Western|           44105|                19224|                      B|\n",
      "|Second Year|ECONOMICS AND STA...| 23|         149|          52|2016|         2018|      Coast|           33954|                18795|                      B|\n",
      "|Second Year|         MATHEMATICS| 18|         150|          70|2013|         2018|    Western|           18113|                25569|                      A|\n",
      "| Third Year|      URBAN PLANNING| 20|         154|          56|2016|         2017|   Central |           11648|                41028|                      A|\n",
      "| Third Year|         MATHEMATICS| 21|         165|          79|2016|         2017|Rift Valley|           39252|                44024|                      A|\n",
      "| Third Year|         MATHEMATICS| 21|         162|          57|2016|         2017|     Nyanza|           38174|                36925|                      B|\n",
      "|Fourth Year|   ACTUARIAL SCIENCE| 22|         154|          53|2015|         2016|     Nyanza|           40833|                27034|                      B|\n",
      "|Fourth Year|           ECONOMICS| 21|         172|          57|2015|         2016|Rift Valley|           42264|                26059|                      B|\n",
      "| Third Year|         MATHEMATICS| 22|         172|          78|2016|         2017|      Coast|            6811|                39242|                      C|\n",
      "|Second Year|         MATHEMATICS| 22|         160|          60|2015|         2016|      Coast|           34148|                37578|                      B|\n",
      "|Fourth Year|         MATHEMATICS| 23|         170|          66|2015|         2016|    Nairobi|           49155|                21501|                      B|\n",
      "| First Year|ECONOMICS AND STA...| 20|         167|          79|2010|         2010|    Nairobi|           23654|                17407|                      C|\n",
      "|Second Year|ECONOMICS AND STA...| 34|         176|          80|2012|         2012|   Eastern |           32733|                39019|                      E|\n",
      "| Third Year|          STATISTICS| 20|         150|          54|2016|         2017|   Central |           45232|                35910|                      B|\n",
      "| Third Year|ECONOMICS AND STA...| 21|         167|          45|2016|         2017|    Nairobi|           28393|                 9384|                      B|\n",
      "| Third Year| APPLIED MATHEMATICS| 20|         122|          52|2016|         2017|   Central |           24691|                28958|                      B|\n",
      "| Third Year|          STATISTICS| 21|         160|          52|2016|         2017|   Central |           36282|                48476|                      B|\n",
      "|Second Year|          STATISTICS| 21|         200|          65|2018|         2019|    Nairobi|            9726|                20195|                      B|\n",
      "+-----------+--------------------+---+------------+------------+----+-------------+-----------+----------------+---------------------+-----------------------+\n",
      "only showing top 20 rows\n",
      "\n"
     ]
    }
   ],
   "source": [
    "from pyspark.sql.functions import col\n",
    "csv_file = \"/kaggle/input/phatvu/students_data.csv\"\n",
    "df = sqlContext.read.csv(csv_file, header = True, inferSchema = True)\n",
    "print(\"Students records: \\n\")\n",
    "df.show()"
   ]
  },
  {
   "cell_type": "markdown",
   "id": "51ad7b4b",
   "metadata": {
    "execution": {
     "iopub.execute_input": "2023-10-19T05:49:15.634915Z",
     "iopub.status.busy": "2023-10-19T05:49:15.634478Z",
     "iopub.status.idle": "2023-10-19T05:49:16.035999Z",
     "shell.execute_reply": "2023-10-19T05:49:16.035013Z",
     "shell.execute_reply.started": "2023-10-19T05:49:15.634885Z"
    },
    "papermill": {
     "duration": 0.081082,
     "end_time": "2023-10-19T06:51:04.262817",
     "exception": false,
     "start_time": "2023-10-19T06:51:04.181735",
     "status": "completed"
    },
    "tags": []
   },
   "source": [
    "from pyspark.sql.functions import mean, col\n",
    "avg = df.select(mean(col('Age')).alias('mean')).collect()\n",
    "df = df.na.fill(avg[0]['mean'], subset= [ 'Age' ])\n",
    "print(\"Replacing the null values in column points by mean of all Age values: \\n\")\n",
    "df.show()"
   ]
  },
  {
   "cell_type": "code",
   "execution_count": 16,
   "id": "83d203a3",
   "metadata": {
    "execution": {
     "iopub.execute_input": "2023-10-19T06:51:04.291364Z",
     "iopub.status.busy": "2023-10-19T06:51:04.290748Z",
     "iopub.status.idle": "2023-10-19T06:51:04.539548Z",
     "shell.execute_reply": "2023-10-19T06:51:04.538445Z"
    },
    "papermill": {
     "duration": 0.266686,
     "end_time": "2023-10-19T06:51:04.542926",
     "exception": false,
     "start_time": "2023-10-19T06:51:04.276240",
     "status": "completed"
    },
    "tags": []
   },
   "outputs": [
    {
     "name": "stdout",
     "output_type": "stream",
     "text": [
      "Replacing values in column Course and SitKCSE by 'unknown'and'--': \n",
      "\n",
      "+-----------+--------------------+---+------------+------------+----+-------------+-----------+----------------+---------------------+-----------------------+\n",
      "|YearofStudy|              Course|Age|ApproxHeight|ApproxWeight|KCSE|Yr_JoinCampus|    SitKCSE|Expense_Semester|Expense_Accommodation|Previous_Exam_MeanGrade|\n",
      "+-----------+--------------------+---+------------+------------+----+-------------+-----------+----------------+---------------------+-----------------------+\n",
      "|Second Year|         MATHEMATICS| 20|         152|          80|2016|         2018|   Central |            8744|                 6043|                      B|\n",
      "| First Year|ECONOMICS AND STA...| 29|         182|          79|2010|         2010|Rift Valley|           26293|                14782|                      B|\n",
      "|Fourth Year|         MATHEMATICS| 22|         167|          64|2015|         2016|    Western|           44105|                19224|                      B|\n",
      "|Second Year|ECONOMICS AND STA...| 23|         149|          52|2016|         2018|      Coast|           33954|                18795|                      B|\n",
      "|Second Year|         MATHEMATICS| 18|         150|          70|2013|         2018|    Western|           18113|                25569|                      A|\n",
      "| Third Year|      URBAN PLANNING| 20|         154|          56|2016|         2017|   Central |           11648|                41028|                      A|\n",
      "| Third Year|         MATHEMATICS| 21|         165|          79|2016|         2017|Rift Valley|           39252|                44024|                      A|\n",
      "| Third Year|         MATHEMATICS| 21|         162|          57|2016|         2017|     Nyanza|           38174|                36925|                      B|\n",
      "|Fourth Year|   ACTUARIAL SCIENCE| 22|         154|          53|2015|         2016|     Nyanza|           40833|                27034|                      B|\n",
      "|Fourth Year|           ECONOMICS| 21|         172|          57|2015|         2016|Rift Valley|           42264|                26059|                      B|\n",
      "| Third Year|         MATHEMATICS| 22|         172|          78|2016|         2017|      Coast|            6811|                39242|                      C|\n",
      "|Second Year|         MATHEMATICS| 22|         160|          60|2015|         2016|      Coast|           34148|                37578|                      B|\n",
      "|Fourth Year|         MATHEMATICS| 23|         170|          66|2015|         2016|    Nairobi|           49155|                21501|                      B|\n",
      "| First Year|ECONOMICS AND STA...| 20|         167|          79|2010|         2010|    Nairobi|           23654|                17407|                      C|\n",
      "|Second Year|ECONOMICS AND STA...| 34|         176|          80|2012|         2012|   Eastern |           32733|                39019|                      E|\n",
      "| Third Year|          STATISTICS| 20|         150|          54|2016|         2017|   Central |           45232|                35910|                      B|\n",
      "| Third Year|ECONOMICS AND STA...| 21|         167|          45|2016|         2017|    Nairobi|           28393|                 9384|                      B|\n",
      "| Third Year| APPLIED MATHEMATICS| 20|         122|          52|2016|         2017|   Central |           24691|                28958|                      B|\n",
      "| Third Year|          STATISTICS| 21|         160|          52|2016|         2017|   Central |           36282|                48476|                      B|\n",
      "|Second Year|          STATISTICS| 21|         200|          65|2018|         2019|    Nairobi|            9726|                20195|                      B|\n",
      "+-----------+--------------------+---+------------+------------+----+-------------+-----------+----------------+---------------------+-----------------------+\n",
      "only showing top 20 rows\n",
      "\n"
     ]
    }
   ],
   "source": [
    "df = df.na.fill({'Course':'unknown','SitKCSE':'--'})\n",
    "print(\"Replacing values in column Course and SitKCSE by 'unknown'and'--': \\n\")\n",
    "df.show()"
   ]
  },
  {
   "cell_type": "code",
   "execution_count": 17,
   "id": "78ffa2a9",
   "metadata": {
    "execution": {
     "iopub.execute_input": "2023-10-19T06:51:04.592676Z",
     "iopub.status.busy": "2023-10-19T06:51:04.591389Z",
     "iopub.status.idle": "2023-10-19T06:51:05.075714Z",
     "shell.execute_reply": "2023-10-19T06:51:05.074453Z"
    },
    "papermill": {
     "duration": 0.512442,
     "end_time": "2023-10-19T06:51:05.079113",
     "exception": false,
     "start_time": "2023-10-19T06:51:04.566671",
     "status": "completed"
    },
    "tags": []
   },
   "outputs": [],
   "source": [
    "from pyspark.sql.functions import mean, col\n",
    "from pyspark.sql.functions import UserDefinedFunction\n",
    "from pyspark.sql.types import TimestampType\n",
    "from dateutil import parser\n",
    "avg = df.select(mean(col('Age')).alias('mean')).collect()\n",
    "df = df.na.fill(avg[0]['mean'],subset=['Age'])\n",
    "df = df.na.fill({'Course': 'Big data','SitKCSE':'--'})"
   ]
  },
  {
   "cell_type": "code",
   "execution_count": 18,
   "id": "52f0b385",
   "metadata": {
    "execution": {
     "iopub.execute_input": "2023-10-19T06:51:05.142006Z",
     "iopub.status.busy": "2023-10-19T06:51:05.140762Z",
     "iopub.status.idle": "2023-10-19T06:51:05.760235Z",
     "shell.execute_reply": "2023-10-19T06:51:05.759119Z"
    },
    "papermill": {
     "duration": 0.65031,
     "end_time": "2023-10-19T06:51:05.762552",
     "exception": false,
     "start_time": "2023-10-19T06:51:05.112242",
     "status": "completed"
    },
    "tags": []
   },
   "outputs": [
    {
     "data": {
      "image/png": "[encoded data removed]",
      "text/plain": [
       "<Figure size 640x480 with 1 Axes>"
      ]
     },
     "metadata": {},
     "output_type": "display_data"
    }
   ],
   "source": [
    "import matplotlib.pyplot as plt\n",
    "pt = df.toPandas()['Age']\n",
    "plt.hist(pt,bins=20)\n",
    "plt.show()"
   ]
  }
 ],
 "metadata": {
  "kernelspec": {
   "display_name": "Python 3",
   "language": "python",
   "name": "python3"
  },
  "language_info": {
   "codemirror_mode": {
    "name": "ipython",
    "version": 3
   },
   "file_extension": ".py",
   "mimetype": "text/x-python",
   "name": "python",
   "nbconvert_exporter": "python",
   "pygments_lexer": "ipython3",
   "version": "3.10.12"
  },
  "papermill": {
   "default_parameters": {},
   "duration": 81.806368,
   "end_time": "2023-10-19T06:51:08.397021",
   "environment_variables": {},
   "exception": null,
   "input_path": "__notebook__.ipynb",
   "output_path": "__notebook__.ipynb",
   "parameters": {},
   "start_time": "2023-10-19T06:49:46.590653",
   "version": "2.4.0"
  }
 },
 "nbformat": 4,
 "nbformat_minor": 5
}
